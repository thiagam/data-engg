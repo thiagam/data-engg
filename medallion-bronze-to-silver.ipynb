{
 "cells": [
  {
   "cell_type": "code",
   "execution_count": 0,
   "metadata": {
    "application/vnd.databricks.v1+cell": {
     "cellMetadata": {
      "byteLimit": 2048000,
      "rowLimit": 10000
     },
     "inputWidgets": {},
     "nuid": "559df583-a3db-4f3c-83fa-5c37d2995c5c",
     "showTitle": false,
     "tableResultSettingsMap": {},
     "title": ""
    }
   },
   "outputs": [],
   "source": [
    "customers_df = spark.read.format(\"delta\").load(\"dbfs:/user/hive/warehouse/customers\")\n",
    "display(customers_df)\n"
   ]
  },
  {
   "cell_type": "code",
   "execution_count": 0,
   "metadata": {
    "application/vnd.databricks.v1+cell": {
     "cellMetadata": {
      "byteLimit": 2048000,
      "rowLimit": 10000
     },
     "inputWidgets": {},
     "nuid": "c9aefc9a-6c40-4e1c-b824-f47ea13a17b7",
     "showTitle": false,
     "tableResultSettingsMap": {},
     "title": ""
    }
   },
   "outputs": [],
   "source": [
    "orders_df = spark.read.format(\"delta\").load(\"dbfs:/user/hive/warehouse/orders\")\n",
    "display(orders_df)"
   ]
  },
  {
   "cell_type": "code",
   "execution_count": 0,
   "metadata": {
    "application/vnd.databricks.v1+cell": {
     "cellMetadata": {
      "byteLimit": 2048000,
      "rowLimit": 10000
     },
     "inputWidgets": {},
     "nuid": "ca4e5371-cfbd-4f68-be13-276d76e8d277",
     "showTitle": false,
     "tableResultSettingsMap": {},
     "title": ""
    }
   },
   "outputs": [],
   "source": [
    "stores_df = spark.read.format(\"delta\").load(\"dbfs:/user/hive/warehouse/stores\")\n",
    "display(stores_df)"
   ]
  },
  {
   "cell_type": "code",
   "execution_count": 0,
   "metadata": {
    "application/vnd.databricks.v1+cell": {
     "cellMetadata": {
      "byteLimit": 2048000,
      "rowLimit": 10000
     },
     "inputWidgets": {},
     "nuid": "1f6a0a63-3149-4e61-af14-62b83c300111",
     "showTitle": false,
     "tableResultSettingsMap": {},
     "title": ""
    }
   },
   "outputs": [],
   "source": [
    "df_joined = orders_df.join(\n",
    "    stores_df,\n",
    "    orders_df['store_id'] == stores_df['store_id'],\n",
    "    how=\"inner\"\n",
    ")\n",
    "\n",
    "selected_columns = df_joined['order_id','order_datetime','customer_id' ,'store_name']\n",
    "selected_columns.display()\n",
    "\n",
    "# Define the output path for the Parquet file\n",
    "output_path = \"dbfs:/user/hive/warehouse/silver-order\"\n",
    "\n",
    "# Write the DataFrame to Parquet format\n",
    "selected_columns.write.parquet(output_path)"
   ]
  },
  {
   "cell_type": "code",
   "execution_count": 0,
   "metadata": {
    "application/vnd.databricks.v1+cell": {
     "cellMetadata": {
      "byteLimit": 2048000,
      "rowLimit": 10000
     },
     "inputWidgets": {},
     "nuid": "e26ac84d-8960-4dd1-a85c-54890f0c420c",
     "showTitle": false,
     "tableResultSettingsMap": {},
     "title": ""
    }
   },
   "outputs": [],
   "source": [
    "silver_order_df = spark.read.format(\"parquet\").load(\"dbfs:/user/hive/warehouse/silver-order\")\n",
    "display(silver_order_df)"
   ]
  }
 ],
 "metadata": {
  "application/vnd.databricks.v1+notebook": {
   "computePreferences": null,
   "dashboards": [],
   "environmentMetadata": {
    "base_environment": "",
    "environment_version": "3"
   },
   "inputWidgetPreferences": null,
   "language": "python",
   "notebookMetadata": {
    "pythonIndentUnit": 4
   },
   "notebookName": "medallion-bronze-to-silver",
   "widgets": {}
  },
  "language_info": {
   "name": "python"
  }
 },
 "nbformat": 4,
 "nbformat_minor": 0
}
